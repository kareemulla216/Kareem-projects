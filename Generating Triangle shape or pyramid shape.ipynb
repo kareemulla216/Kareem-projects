{
 "cells": [
  {
   "cell_type": "code",
   "execution_count": 4,
   "id": "274fdfb5",
   "metadata": {},
   "outputs": [
    {
     "name": "stdout",
     "output_type": "stream",
     "text": [
      "Enter number of rows: 20\n",
      "                                        * \n",
      "                                      * * * \n",
      "                                    * * * * * \n",
      "                                  * * * * * * * \n",
      "                                * * * * * * * * * \n",
      "                              * * * * * * * * * * * \n",
      "                            * * * * * * * * * * * * * \n",
      "                          * * * * * * * * * * * * * * * \n",
      "                        * * * * * * * * * * * * * * * * * \n",
      "                      * * * * * * * * * * * * * * * * * * * \n",
      "                    * * * * * * * * * * * * * * * * * * * * * \n",
      "                  * * * * * * * * * * * * * * * * * * * * * * * \n",
      "                * * * * * * * * * * * * * * * * * * * * * * * * * \n",
      "              * * * * * * * * * * * * * * * * * * * * * * * * * * * \n",
      "            * * * * * * * * * * * * * * * * * * * * * * * * * * * * * \n",
      "          * * * * * * * * * * * * * * * * * * * * * * * * * * * * * * * \n",
      "        * * * * * * * * * * * * * * * * * * * * * * * * * * * * * * * * * \n",
      "      * * * * * * * * * * * * * * * * * * * * * * * * * * * * * * * * * * * \n",
      "    * * * * * * * * * * * * * * * * * * * * * * * * * * * * * * * * * * * * * \n",
      "  * * * * * * * * * * * * * * * * * * * * * * * * * * * * * * * * * * * * * * * \n"
     ]
    }
   ],
   "source": [
    "# Generating Triangle Shape\n",
    "def triangleShape(n):\n",
    "    for i in range(n):\n",
    "        for j in range(n-i):\n",
    "            print(' ', end=' ')\n",
    "        for k in range(2*i+1):\n",
    "            print('*',end=' ')\n",
    "        print()\n",
    "row = int(input('Enter number of rows: '))\n",
    "\n",
    "triangleShape(row)"
   ]
  },
  {
   "cell_type": "code",
   "execution_count": null,
   "id": "5fe3bc4b",
   "metadata": {},
   "outputs": [],
   "source": []
  }
 ],
 "metadata": {
  "kernelspec": {
   "display_name": "Python 3 (ipykernel)",
   "language": "python",
   "name": "python3"
  },
  "language_info": {
   "codemirror_mode": {
    "name": "ipython",
    "version": 3
   },
   "file_extension": ".py",
   "mimetype": "text/x-python",
   "name": "python",
   "nbconvert_exporter": "python",
   "pygments_lexer": "ipython3",
   "version": "3.11.4"
  }
 },
 "nbformat": 4,
 "nbformat_minor": 5
}
